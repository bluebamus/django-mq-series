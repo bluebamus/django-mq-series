{
 "cells": [
  {
   "cell_type": "code",
   "execution_count": 1,
   "id": "99db22a3",
   "metadata": {},
   "outputs": [],
   "source": [
    "import os"
   ]
  },
  {
   "cell_type": "code",
   "execution_count": 2,
   "id": "9b7fb8bc",
   "metadata": {},
   "outputs": [],
   "source": [
    "os.environ[\"DJANGO_ALLOW_ASYNC_UNSAFE\"] = \"true\""
   ]
  },
  {
   "cell_type": "code",
   "execution_count": 3,
   "id": "509a912c",
   "metadata": {},
   "outputs": [],
   "source": [
    "from app1.tasks import add"
   ]
  },
  {
   "cell_type": "code",
   "execution_count": 11,
   "id": "803f3c6b",
   "metadata": {},
   "outputs": [],
   "source": [
    "import datetime"
   ]
  },
  {
   "cell_type": "code",
   "execution_count": 18,
   "id": "da7df26d",
   "metadata": {},
   "outputs": [],
   "source": [
    "from datetime import timedelta "
   ]
  },
  {
   "cell_type": "code",
   "execution_count": 19,
   "id": "967937f6",
   "metadata": {},
   "outputs": [],
   "source": [
    "now = datetime.datetime.now()"
   ]
  },
  {
   "cell_type": "code",
   "execution_count": 20,
   "id": "b72c758f",
   "metadata": {},
   "outputs": [
    {
     "data": {
      "text/plain": [
       "<AsyncResult: 64406b7f-9d15-4c0e-b4ac-e5eb4abae21c>"
      ]
     },
     "execution_count": 20,
     "metadata": {},
     "output_type": "execute_result"
    }
   ],
   "source": [
    "add.delay(4,4)"
   ]
  },
  {
   "cell_type": "code",
   "execution_count": 21,
   "id": "56873431",
   "metadata": {},
   "outputs": [
    {
     "data": {
      "text/plain": [
       "<AsyncResult: 6177c147-897d-461c-8a34-3bdd71c93e3b>"
      ]
     },
     "execution_count": 21,
     "metadata": {},
     "output_type": "execute_result"
    }
   ],
   "source": [
    "add.apply_async((3,3),countdown=10)"
   ]
  },
  {
   "cell_type": "code",
   "execution_count": 22,
   "id": "5e30c033",
   "metadata": {},
   "outputs": [
    {
     "data": {
      "text/plain": [
       "<AsyncResult: bec60526-cd99-48fa-b5b8-5421e6cef25a>"
      ]
     },
     "execution_count": 22,
     "metadata": {},
     "output_type": "execute_result"
    }
   ],
   "source": [
    "add.apply_async((3,3),countdown=10) # 지금부터 10초 뒤 실행"
   ]
  },
  {
   "cell_type": "code",
   "execution_count": 23,
   "id": "b61ecaba",
   "metadata": {},
   "outputs": [
    {
     "data": {
      "text/plain": [
       "<AsyncResult: 51acf1c1-f87e-4610-b1d9-c1dbfbf47911>"
      ]
     },
     "execution_count": 23,
     "metadata": {},
     "output_type": "execute_result"
    }
   ],
   "source": [
    "add.apply_async((3,3),eta=now + timedelta(seconds=10)) "
   ]
  },
  {
   "cell_type": "code",
   "execution_count": 24,
   "id": "39536526",
   "metadata": {},
   "outputs": [
    {
     "data": {
      "text/plain": [
       "<AsyncResult: 6104e9ea-1333-4a07-af18-1c151a6c5b31>"
      ]
     },
     "execution_count": 24,
     "metadata": {},
     "output_type": "execute_result"
    }
   ],
   "source": [
    "add.apply_async((3,3),countdown=60, expires=120) # 1분뒤에 실행하고 2분뒤에 파기"
   ]
  },
  {
   "cell_type": "code",
   "execution_count": 25,
   "id": "3267d552",
   "metadata": {},
   "outputs": [
    {
     "data": {
      "text/plain": [
       "<AsyncResult: 8737ea63-e846-4d5d-a4ad-2949f4102043>"
      ]
     },
     "execution_count": 25,
     "metadata": {},
     "output_type": "execute_result"
    }
   ],
   "source": [
    "add.apply_async((3,3),expires=now + timedelta(days=2)) # 1분뒤에 실행하고 2분뒤에 파기"
   ]
  },
  {
   "cell_type": "code",
   "execution_count": null,
   "id": "2929ee04",
   "metadata": {},
   "outputs": [],
   "source": []
  }
 ],
 "metadata": {
  "kernelspec": {
   "display_name": "Django Shell-Plus",
   "language": "python",
   "name": "django_extensions"
  },
  "language_info": {
   "codemirror_mode": {
    "name": "ipython",
    "version": 3
   },
   "file_extension": ".py",
   "mimetype": "text/x-python",
   "name": "python",
   "nbconvert_exporter": "python",
   "pygments_lexer": "ipython3",
   "version": "3.11.2"
  }
 },
 "nbformat": 4,
 "nbformat_minor": 5
}

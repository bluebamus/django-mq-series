{
 "cells": [
  {
   "cell_type": "code",
   "execution_count": 1,
   "id": "32f560d6",
   "metadata": {},
   "outputs": [],
   "source": [
    "import os"
   ]
  },
  {
   "cell_type": "code",
   "execution_count": 40,
   "id": "857371ba",
   "metadata": {},
   "outputs": [],
   "source": [
    "os.environ[\"DJANGO_ALLOW_ASYNC_UNSAFE\"] = \"true\""
   ]
  },
  {
   "cell_type": "code",
   "execution_count": 44,
   "id": "47256549",
   "metadata": {},
   "outputs": [],
   "source": [
    "from task1.tasks.sample import working"
   ]
  },
  {
   "cell_type": "code",
   "execution_count": 45,
   "id": "b36059a7",
   "metadata": {},
   "outputs": [
    {
     "data": {
      "text/plain": [
       "celery.local.celery.local"
      ]
     },
     "execution_count": 45,
     "metadata": {},
     "output_type": "execute_result"
    }
   ],
   "source": [
    "type(working1)"
   ]
  },
  {
   "cell_type": "code",
   "execution_count": 46,
   "id": "18e36370",
   "metadata": {},
   "outputs": [],
   "source": [
    "# part 1"
   ]
  },
  {
   "cell_type": "code",
   "execution_count": 47,
   "id": "ee6c8b12",
   "metadata": {},
   "outputs": [],
   "source": [
    "# reference : https://heodolf.tistory.com/54"
   ]
  },
  {
   "cell_type": "code",
   "execution_count": 48,
   "id": "42f18faf",
   "metadata": {},
   "outputs": [
    {
     "data": {
      "text/plain": [
       "'1번째, 일을 끝냈다.'"
      ]
     },
     "execution_count": 48,
     "metadata": {},
     "output_type": "execute_result"
    }
   ],
   "source": [
    "working( 1 )"
   ]
  },
  {
   "cell_type": "code",
   "execution_count": 70,
   "id": "74191b9d",
   "metadata": {},
   "outputs": [
    {
     "data": {
      "text/plain": [
       "<AsyncResult: 180e86da-1354-4dfe-98c6-f1b56c6b6aa9>"
      ]
     },
     "execution_count": 70,
     "metadata": {},
     "output_type": "execute_result"
    }
   ],
   "source": [
    "working.delay( 3 )"
   ]
  },
  {
   "cell_type": "code",
   "execution_count": 71,
   "id": "602d794a",
   "metadata": {},
   "outputs": [
    {
     "data": {
      "text/plain": [
       "<AsyncResult: 2123cc0b-bf6d-4ff7-8429-bed9d6aa0066>"
      ]
     },
     "execution_count": 71,
     "metadata": {},
     "output_type": "execute_result"
    }
   ],
   "source": [
    "working.delay( 4 )"
   ]
  },
  {
   "cell_type": "code",
   "execution_count": null,
   "id": "593dd8d7",
   "metadata": {},
   "outputs": [],
   "source": []
  }
 ],
 "metadata": {
  "kernelspec": {
   "display_name": "Django Shell-Plus",
   "language": "python",
   "name": "django_extensions"
  },
  "language_info": {
   "codemirror_mode": {
    "name": "ipython",
    "version": 3
   },
   "file_extension": ".py",
   "mimetype": "text/x-python",
   "name": "python",
   "nbconvert_exporter": "python",
   "pygments_lexer": "ipython3",
   "version": "3.11.2"
  }
 },
 "nbformat": 4,
 "nbformat_minor": 5
}

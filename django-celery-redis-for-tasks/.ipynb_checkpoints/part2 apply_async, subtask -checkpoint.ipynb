{
 "cells": [
  {
   "cell_type": "code",
   "execution_count": 1,
   "id": "feb4cf47",
   "metadata": {},
   "outputs": [],
   "source": [
    "import os"
   ]
  },
  {
   "cell_type": "code",
   "execution_count": 2,
   "id": "4664c479",
   "metadata": {},
   "outputs": [],
   "source": [
    "os.environ[\"DJANGO_ALLOW_ASYNC_UNSAFE\"] = \"true\""
   ]
  },
  {
   "cell_type": "code",
   "execution_count": 3,
   "id": "0b689908",
   "metadata": {},
   "outputs": [],
   "source": [
    "# part 2"
   ]
  },
  {
   "cell_type": "code",
   "execution_count": 4,
   "id": "d5593433",
   "metadata": {},
   "outputs": [],
   "source": [
    "# reference : https://heodolf.tistory.com/63"
   ]
  },
  {
   "cell_type": "code",
   "execution_count": 5,
   "id": "d09ff922",
   "metadata": {},
   "outputs": [],
   "source": [
    "# apply_async, subtask "
   ]
  },
  {
   "cell_type": "code",
   "execution_count": 6,
   "id": "8a9cead1",
   "metadata": {},
   "outputs": [],
   "source": [
    "# reference : https://docs.celeryq.dev/en/latest/userguide/tasks.html"
   ]
  },
  {
   "cell_type": "code",
   "execution_count": 7,
   "id": "c263f2f4",
   "metadata": {},
   "outputs": [],
   "source": [
    "from task1.tasks.add import add"
   ]
  },
  {
   "cell_type": "code",
   "execution_count": 8,
   "id": "4ecfe4e8",
   "metadata": {},
   "outputs": [],
   "source": [
    "task_1 = add.delay( 1, 2 )"
   ]
  },
  {
   "cell_type": "code",
   "execution_count": 9,
   "id": "e2fe96cc",
   "metadata": {},
   "outputs": [],
   "source": [
    "task_2 = add.apply_async( args=[3, 4], ignore_result=True )"
   ]
  },
  {
   "cell_type": "code",
   "execution_count": 10,
   "id": "8761bc85",
   "metadata": {},
   "outputs": [],
   "source": [
    "task_3 = add.apply_async( args=[5, 6], kwargs={} )"
   ]
  },
  {
   "cell_type": "code",
   "execution_count": 11,
   "id": "9576d541",
   "metadata": {},
   "outputs": [
    {
     "name": "stdout",
     "output_type": "stream",
     "text": [
      "# 1. Task ID 확인\n",
      "task_1 is 7b4cfb63-f541-4faf-b98a-6692a0ca7bdf\n",
      "task_2 is 30b44c1a-ccc4-4e2a-a4e5-1be669a9a07c\n",
      "task_3 is fc6ea5fd-45e0-401f-93fb-096a2508b847\n"
     ]
    }
   ],
   "source": [
    "print( \"# 1. Task ID 확인\" )\n",
    "print( \"task_1 is {}\".format( task_1.id ) )\n",
    "print( \"task_2 is {}\".format( task_2.id ) )\n",
    "print( \"task_3 is {}\".format( task_3.id ) )"
   ]
  },
  {
   "cell_type": "code",
   "execution_count": 12,
   "id": "7f2c9503",
   "metadata": {},
   "outputs": [
    {
     "name": "stdout",
     "output_type": "stream",
     "text": [
      "\n",
      "# 2. Task 상태\n",
      "task_1 is ready? True\n",
      "task_2 is ready? False\n",
      "task_3 is ready? True\n"
     ]
    }
   ],
   "source": [
    "print( \"\\n# 2. Task 상태\" )\n",
    "print( \"task_1 is ready? {}\".format( task_1.ready() ) )\n",
    "print( \"task_2 is ready? {}\".format( task_2.ready() ) )\n",
    "print( \"task_3 is ready? {}\".format( task_3.ready() ) )"
   ]
  },
  {
   "cell_type": "code",
   "execution_count": 13,
   "id": "3d3f814a",
   "metadata": {},
   "outputs": [
    {
     "name": "stdout",
     "output_type": "stream",
     "text": [
      "\n",
      "# 3. 실행결과 확인\n",
      "task_1 is 3\n",
      "task_2 is None\n",
      "task_3 is 11\n"
     ]
    }
   ],
   "source": [
    "print( \"\\n# 3. 실행결과 확인\" )\n",
    "print( \"task_1 is {}\".format( task_1.get() ) )\n",
    "print( \"task_2 is {}\".format( task_2.get() ) )\n",
    "print( \"task_3 is {}\".format( task_3.get() ) )"
   ]
  },
  {
   "cell_type": "code",
   "execution_count": 14,
   "id": "9a2870fa",
   "metadata": {},
   "outputs": [
    {
     "name": "stdout",
     "output_type": "stream",
     "text": [
      "\n",
      "# 4. Task 상태\n",
      "task_1 is ready? True\n",
      "task_2 is ready? False\n",
      "task_3 is ready? True\n"
     ]
    }
   ],
   "source": [
    "print( \"\\n# 4. Task 상태\" )\n",
    "print( \"task_1 is ready? {}\".format( task_1.ready() ) )\n",
    "print( \"task_2 is ready? {}\".format( task_2.ready() ) )\n",
    "print( \"task_3 is ready? {}\".format( task_3.ready() ) )"
   ]
  },
  {
   "cell_type": "code",
   "execution_count": null,
   "id": "f49ff8e8",
   "metadata": {},
   "outputs": [],
   "source": []
  },
  {
   "cell_type": "code",
   "execution_count": 15,
   "id": "74d450b6",
   "metadata": {},
   "outputs": [],
   "source": [
    "# SubTasks "
   ]
  },
  {
   "cell_type": "code",
   "execution_count": 17,
   "id": "5d1fb590",
   "metadata": {},
   "outputs": [],
   "source": [
    "# s와 subtask\n",
    "subtask_1 = add.s( 1, 2 )\n",
    "subtask_2 = add.subtask( args=[3, 4], ignore_result=True )\n",
    "subtask_3 = add.subtask( args=[5, 6], kwargs={} )\n",
    "subtask_4 = add.subtask()"
   ]
  },
  {
   "cell_type": "code",
   "execution_count": 18,
   "id": "3f7cceab",
   "metadata": {},
   "outputs": [
    {
     "name": "stdout",
     "output_type": "stream",
     "text": [
      "# 1. SubTask 확인\n",
      "subtask_1 is None\n",
      "subtask_2 is None\n",
      "subtask_3 is None\n",
      "subtask_4 is None\n"
     ]
    }
   ],
   "source": [
    "print( \"# 1. SubTask 확인\" )\n",
    "print( \"subtask_1 is {}\".format( subtask_1.id ) )\n",
    "print( \"subtask_2 is {}\".format( subtask_2.id ) )\n",
    "print( \"subtask_3 is {}\".format( subtask_3.id ) )\n",
    "print( \"subtask_4 is {}\".format( subtask_4.id ) )"
   ]
  },
  {
   "cell_type": "code",
   "execution_count": 19,
   "id": "eed98a55",
   "metadata": {},
   "outputs": [],
   "source": [
    "task_1 = subtask_1.delay()\n",
    "task_2 = subtask_2.apply_async()\n",
    "task_3 = subtask_3.delay()\n",
    "task_4 = subtask_4.apply_async( args=[7, 8], ignore_result=True )\n",
    "task_5 = subtask_4.delay( 9, 10 )"
   ]
  },
  {
   "cell_type": "code",
   "execution_count": 20,
   "id": "ebcf330d",
   "metadata": {},
   "outputs": [
    {
     "name": "stdout",
     "output_type": "stream",
     "text": [
      "\n",
      "# 2. Task ID 확인\n",
      "task_1 is 3d8962dd-fe29-413a-a493-9605754c1540\n",
      "task_2 is 4e2f3935-7689-43a4-8fc3-96d75b219a8d\n",
      "task_3 is 09792049-4b58-49ca-8ae1-f7fa91ed4fc9\n",
      "task_4 is c654f74f-23ed-4689-b406-4e86567ce8e6\n",
      "task_5 is c654f74f-23ed-4689-b406-4e86567ce8e6\n"
     ]
    }
   ],
   "source": [
    "print( \"\\n# 2. Task ID 확인\" )\n",
    "print( \"task_1 is {}\".format( task_1 ) )\n",
    "print( \"task_2 is {}\".format( task_2 ) )\n",
    "print( \"task_3 is {}\".format( task_3 ) )\n",
    "print( \"task_4 is {}\".format( task_4 ) )\n",
    "print( \"task_5 is {}\".format( task_4 ) )"
   ]
  },
  {
   "cell_type": "code",
   "execution_count": 21,
   "id": "f8fdc236",
   "metadata": {},
   "outputs": [
    {
     "name": "stdout",
     "output_type": "stream",
     "text": [
      "\n",
      "# 3. Task 상태\n",
      "task_1 is ready? False\n",
      "task_2 is ready? False\n",
      "task_3 is ready? False\n",
      "task_4 is ready? False\n",
      "task_5 is ready? False\n"
     ]
    }
   ],
   "source": [
    "print( \"\\n# 3. Task 상태\" )\n",
    "print( \"task_1 is ready? {}\".format( task_1.ready() ) )\n",
    "print( \"task_2 is ready? {}\".format( task_2.ready() ) )\n",
    "print( \"task_3 is ready? {}\".format( task_3.ready() ) )\n",
    "print( \"task_4 is ready? {}\".format( task_4.ready() ) )\n",
    "print( \"task_5 is ready? {}\".format( task_5.ready() ) )"
   ]
  },
  {
   "cell_type": "code",
   "execution_count": 22,
   "id": "d623734f",
   "metadata": {},
   "outputs": [
    {
     "name": "stdout",
     "output_type": "stream",
     "text": [
      "\n",
      "# 4. 실행결과 확인\n",
      "task_1 is 3\n",
      "task_2 is None\n",
      "task_3 is 11\n",
      "task_4 is None\n",
      "task_5 is 19\n"
     ]
    }
   ],
   "source": [
    "print( \"\\n# 4. 실행결과 확인\" )\n",
    "print( \"task_1 is {}\".format( task_1.get() ) )\n",
    "print( \"task_2 is {}\".format( task_2.get() ) )\n",
    "print( \"task_3 is {}\".format( task_3.get() ) )\n",
    "print( \"task_4 is {}\".format( task_4.get() ) )\n",
    "print( \"task_5 is {}\".format( task_5.get() ) )"
   ]
  },
  {
   "cell_type": "code",
   "execution_count": 23,
   "id": "866fa031",
   "metadata": {},
   "outputs": [
    {
     "name": "stdout",
     "output_type": "stream",
     "text": [
      "\n",
      "# 5. Task 상태\n",
      "task_1 is ready? True\n",
      "task_2 is ready? False\n",
      "task_3 is ready? True\n",
      "task_4 is ready? False\n",
      "task_5 is ready? True\n"
     ]
    }
   ],
   "source": [
    "print( \"\\n# 5. Task 상태\" )\n",
    "print( \"task_1 is ready? {}\".format( task_1.ready() ) )\n",
    "print( \"task_2 is ready? {}\".format( task_2.ready() ) )\n",
    "print( \"task_3 is ready? {}\".format( task_3.ready() ) )\n",
    "print( \"task_4 is ready? {}\".format( task_4.ready() ) )\n",
    "print( \"task_5 is ready? {}\".format( task_5.ready() ) )"
   ]
  },
  {
   "cell_type": "code",
   "execution_count": null,
   "id": "f12e5abb",
   "metadata": {},
   "outputs": [],
   "source": []
  },
  {
   "cell_type": "code",
   "execution_count": null,
   "id": "6035097e",
   "metadata": {},
   "outputs": [],
   "source": []
  },
  {
   "cell_type": "code",
   "execution_count": null,
   "id": "0f458662",
   "metadata": {},
   "outputs": [],
   "source": []
  }
 ],
 "metadata": {
  "kernelspec": {
   "display_name": "Django Shell-Plus",
   "language": "python",
   "name": "django_extensions"
  },
  "language_info": {
   "codemirror_mode": {
    "name": "ipython",
    "version": 3
   },
   "file_extension": ".py",
   "mimetype": "text/x-python",
   "name": "python",
   "nbconvert_exporter": "python",
   "pygments_lexer": "ipython3",
   "version": "3.11.2"
  }
 },
 "nbformat": 4,
 "nbformat_minor": 5
}

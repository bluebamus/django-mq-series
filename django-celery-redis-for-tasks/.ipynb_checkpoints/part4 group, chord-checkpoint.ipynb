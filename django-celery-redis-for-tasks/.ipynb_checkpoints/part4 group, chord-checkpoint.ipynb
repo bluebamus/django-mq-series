{
 "cells": [
  {
   "cell_type": "code",
   "execution_count": 1,
   "id": "ee4c05dd",
   "metadata": {},
   "outputs": [],
   "source": [
    "import os"
   ]
  },
  {
   "cell_type": "code",
   "execution_count": 2,
   "id": "9e205228",
   "metadata": {},
   "outputs": [],
   "source": [
    "os.environ[\"DJANGO_ALLOW_ASYNC_UNSAFE\"] = \"true\""
   ]
  },
  {
   "cell_type": "code",
   "execution_count": 3,
   "id": "68221082",
   "metadata": {},
   "outputs": [],
   "source": [
    "# part 4"
   ]
  },
  {
   "cell_type": "code",
   "execution_count": 4,
   "id": "b018e550",
   "metadata": {},
   "outputs": [],
   "source": [
    "# reference : https://heodolf.tistory.com/66"
   ]
  },
  {
   "cell_type": "code",
   "execution_count": 12,
   "id": "14a6e8ff",
   "metadata": {},
   "outputs": [],
   "source": [
    "# reference : https://docs.celeryq.dev/en/latest/userguide/canvas.html#groups"
   ]
  },
  {
   "cell_type": "code",
   "execution_count": 5,
   "id": "af6ee9e8",
   "metadata": {},
   "outputs": [],
   "source": [
    "from task1.tasks.add import add\n",
    "from celery import group"
   ]
  },
  {
   "cell_type": "code",
   "execution_count": 6,
   "id": "1d8dd706",
   "metadata": {},
   "outputs": [],
   "source": [
    "tasks = [ add.s( i, i+1 ) for i in range(1, 5) ]"
   ]
  },
  {
   "cell_type": "code",
   "execution_count": 7,
   "id": "5e71ccf6",
   "metadata": {},
   "outputs": [],
   "source": [
    "grouping = group( tasks )\n",
    "group_task = grouping() # 또는 grouping.apply_async()"
   ]
  },
  {
   "cell_type": "code",
   "execution_count": 8,
   "id": "d34f86fb",
   "metadata": {},
   "outputs": [
    {
     "name": "stdout",
     "output_type": "stream",
     "text": [
      "\n",
      "# 1. Task 확인\n",
      "tasks = [task1.tasks.add.add(1, 2), task1.tasks.add.add(2, 3), task1.tasks.add.add(3, 4), task1.tasks.add.add(4, 5)]\n",
      "group_task.id = e7312c79-6e67-47c5-923f-6f7cb6695284\n",
      "group_task.type = <class 'celery.result.GroupResult'>\n"
     ]
    }
   ],
   "source": [
    "print( \"\\n# 1. Task 확인\" )\n",
    "print( \"tasks = {}\".format( tasks ) )\n",
    "print( \"group_task.id = {}\".format( group_task.id ) )\n",
    "print( \"group_task.type = {}\".format( type(group_task) ) )"
   ]
  },
  {
   "cell_type": "code",
   "execution_count": 9,
   "id": "acc610f8",
   "metadata": {},
   "outputs": [
    {
     "name": "stdout",
     "output_type": "stream",
     "text": [
      "\n",
      "# 2. Task 상태 확인\n",
      "Subtask가 모두 준비되었는가? False\n"
     ]
    }
   ],
   "source": [
    "print( \"\\n# 2. Task 상태 확인\" )\n",
    "print( \"Subtask가 모두 준비되었는가? {}\".format( group_task.ready() ) )"
   ]
  },
  {
   "cell_type": "code",
   "execution_count": 10,
   "id": "ab10323f",
   "metadata": {},
   "outputs": [
    {
     "name": "stdout",
     "output_type": "stream",
     "text": [
      "\n",
      "# 3. 실행결과 확인\n",
      "몇건이 완료 되었는가? 0\n",
      "완료된 결과를 반환. [3, 5, 7, 9]\n",
      "호출한 순서대로 반환. [3, 5, 7, 9]\n",
      "몇건이 완료 되었는가? 4\n"
     ]
    }
   ],
   "source": [
    "print( \"\\n# 3. 실행결과 확인\" )\n",
    "print( \"몇건이 완료 되었는가? {}\".format( group_task.completed_count() ) )\n",
    "print( \"완료된 결과를 반환. {}\".format( group_task.get() ) )\n",
    "print( \"호출한 순서대로 반환. {}\".format( group_task.join() ) )\n",
    "print( \"몇건이 완료 되었는가? {}\".format( group_task.completed_count() ) )"
   ]
  },
  {
   "cell_type": "code",
   "execution_count": 11,
   "id": "03a13ec8",
   "metadata": {},
   "outputs": [
    {
     "name": "stdout",
     "output_type": "stream",
     "text": [
      "\n",
      "# 4. Task 상태 확인\n",
      "Subtask가 모두 준비되었는가? True\n",
      "모두 성공했는가? True\n",
      "실패가 있는가? False\n"
     ]
    }
   ],
   "source": [
    "print( \"\\n# 4. Task 상태 확인\" )\n",
    "print( \"Subtask가 모두 준비되었는가? {}\".format( group_task.ready() ) )\n",
    "print( \"모두 성공했는가? {}\".format( group_task.successful() ) )\n",
    "print( \"실패가 있는가? {}\".format( group_task.failed() ) )"
   ]
  },
  {
   "cell_type": "code",
   "execution_count": null,
   "id": "d5b1b973",
   "metadata": {},
   "outputs": [],
   "source": []
  },
  {
   "cell_type": "code",
   "execution_count": null,
   "id": "80a19554",
   "metadata": {},
   "outputs": [],
   "source": []
  },
  {
   "cell_type": "code",
   "execution_count": null,
   "id": "da4dafc5",
   "metadata": {},
   "outputs": [],
   "source": []
  },
  {
   "cell_type": "code",
   "execution_count": null,
   "id": "076c7402",
   "metadata": {},
   "outputs": [],
   "source": []
  },
  {
   "cell_type": "code",
   "execution_count": null,
   "id": "b95e0250",
   "metadata": {},
   "outputs": [],
   "source": []
  },
  {
   "cell_type": "code",
   "execution_count": null,
   "id": "5f84a178",
   "metadata": {},
   "outputs": [],
   "source": []
  },
  {
   "cell_type": "code",
   "execution_count": null,
   "id": "57f3ce23",
   "metadata": {},
   "outputs": [],
   "source": []
  },
  {
   "cell_type": "code",
   "execution_count": null,
   "id": "f7124d84",
   "metadata": {},
   "outputs": [],
   "source": []
  }
 ],
 "metadata": {
  "kernelspec": {
   "display_name": "Django Shell-Plus",
   "language": "python",
   "name": "django_extensions"
  },
  "language_info": {
   "codemirror_mode": {
    "name": "ipython",
    "version": 3
   },
   "file_extension": ".py",
   "mimetype": "text/x-python",
   "name": "python",
   "nbconvert_exporter": "python",
   "pygments_lexer": "ipython3",
   "version": "3.11.2"
  }
 },
 "nbformat": 4,
 "nbformat_minor": 5
}

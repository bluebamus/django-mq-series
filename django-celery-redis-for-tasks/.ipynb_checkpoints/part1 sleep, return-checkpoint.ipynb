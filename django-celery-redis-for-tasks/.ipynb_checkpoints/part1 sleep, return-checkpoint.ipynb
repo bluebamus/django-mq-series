{
 "cells": [
  {
   "cell_type": "code",
   "execution_count": 1,
   "id": "ad4328f4",
   "metadata": {},
   "outputs": [],
   "source": [
    "import os"
   ]
  },
  {
   "cell_type": "code",
   "execution_count": 40,
   "id": "a5f4b0cb",
   "metadata": {},
   "outputs": [],
   "source": [
    "os.environ[\"DJANGO_ALLOW_ASYNC_UNSAFE\"] = \"true\""
   ]
  },
  {
   "cell_type": "code",
   "execution_count": 44,
   "id": "bd9f2615",
   "metadata": {},
   "outputs": [],
   "source": [
    "from task1.tasks.sample import working"
   ]
  },
  {
   "cell_type": "code",
   "execution_count": 45,
   "id": "60e69eac",
   "metadata": {},
   "outputs": [
    {
     "data": {
      "text/plain": [
       "celery.local.celery.local"
      ]
     },
     "execution_count": 45,
     "metadata": {},
     "output_type": "execute_result"
    }
   ],
   "source": [
    "type(working1)"
   ]
  },
  {
   "cell_type": "code",
   "execution_count": 46,
   "id": "327422b2",
   "metadata": {},
   "outputs": [],
   "source": [
    "# part 1"
   ]
  },
  {
   "cell_type": "code",
   "execution_count": 47,
   "id": "51f8e403",
   "metadata": {},
   "outputs": [],
   "source": [
    "# reference : https://heodolf.tistory.com/54"
   ]
  },
  {
   "cell_type": "code",
   "execution_count": 48,
   "id": "9127d8af",
   "metadata": {},
   "outputs": [
    {
     "data": {
      "text/plain": [
       "'1번째, 일을 끝냈다.'"
      ]
     },
     "execution_count": 48,
     "metadata": {},
     "output_type": "execute_result"
    }
   ],
   "source": [
    "working( 1 )"
   ]
  },
  {
   "cell_type": "code",
   "execution_count": 49,
   "id": "2fb5ab70",
   "metadata": {},
   "outputs": [
    {
     "data": {
      "text/plain": [
       "<AsyncResult: 49b24919-a573-4dc1-bf08-c811c26a6501>"
      ]
     },
     "execution_count": 49,
     "metadata": {},
     "output_type": "execute_result"
    }
   ],
   "source": [
    "working.delay( 3 )"
   ]
  },
  {
   "cell_type": "code",
   "execution_count": 50,
   "id": "1c0b66ac",
   "metadata": {},
   "outputs": [
    {
     "data": {
      "text/plain": [
       "<AsyncResult: f03d195b-f7ae-4b37-a02c-56e86320112c>"
      ]
     },
     "execution_count": 50,
     "metadata": {},
     "output_type": "execute_result"
    }
   ],
   "source": [
    "working.delay( 4 )"
   ]
  }
 ],
 "metadata": {
  "kernelspec": {
   "display_name": "Django Shell-Plus",
   "language": "python",
   "name": "django_extensions"
  },
  "language_info": {
   "codemirror_mode": {
    "name": "ipython",
    "version": 3
   },
   "file_extension": ".py",
   "mimetype": "text/x-python",
   "name": "python",
   "nbconvert_exporter": "python",
   "pygments_lexer": "ipython3",
   "version": "3.11.2"
  }
 },
 "nbformat": 4,
 "nbformat_minor": 5
}

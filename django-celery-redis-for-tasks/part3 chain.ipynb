{
 "cells": [
  {
   "cell_type": "code",
   "execution_count": 19,
   "id": "34aeb38d",
   "metadata": {},
   "outputs": [],
   "source": [
    "import os"
   ]
  },
  {
   "cell_type": "code",
   "execution_count": 20,
   "id": "d744cabc",
   "metadata": {},
   "outputs": [],
   "source": [
    "os.environ[\"DJANGO_ALLOW_ASYNC_UNSAFE\"] = \"true\""
   ]
  },
  {
   "cell_type": "code",
   "execution_count": 21,
   "id": "acbc69f2",
   "metadata": {},
   "outputs": [],
   "source": [
    "# part 3"
   ]
  },
  {
   "cell_type": "code",
   "execution_count": 62,
   "id": "e8b65b7d",
   "metadata": {},
   "outputs": [],
   "source": [
    "# reference : https://heodolf.tistory.com/65"
   ]
  },
  {
   "cell_type": "code",
   "execution_count": 63,
   "id": "a4c4acc7",
   "metadata": {},
   "outputs": [],
   "source": [
    "# reference: https://docs.celeryq.dev/en/latest/userguide/tasks.html#avoid-launching-synchronous-subtasks"
   ]
  },
  {
   "cell_type": "code",
   "execution_count": 70,
   "id": "04383e8a",
   "metadata": {},
   "outputs": [],
   "source": [
    "from task1.tasks.add import add\n",
    "from celery import chain\n",
    "from celery.result import AsyncResult"
   ]
  },
  {
   "cell_type": "code",
   "execution_count": 64,
   "id": "333dde79",
   "metadata": {},
   "outputs": [],
   "source": [
    "subtask_1 = add.s( 1, 2 )\n",
    "subtask_2 = add.s( 3 )\n",
    "subtask_3 = add.s( 4 )\n",
    "subtask_4 = add.s( 5 )"
   ]
  },
  {
   "cell_type": "code",
   "execution_count": 65,
   "id": "fa26e1e5",
   "metadata": {},
   "outputs": [],
   "source": [
    "# 튜플 또는 리스트를 이용한 Chain\n",
    "tasks = ( subtask_1, subtask_2, subtask_3, subtask_4 )"
   ]
  },
  {
   "cell_type": "code",
   "execution_count": 66,
   "id": "364a1b91",
   "metadata": {},
   "outputs": [],
   "source": [
    "chaining = chain( tasks )   # Chain Task 생성\n",
    "chain_task = chaining( )    # Chain 실행"
   ]
  },
  {
   "cell_type": "code",
   "execution_count": 67,
   "id": "ef98253f",
   "metadata": {},
   "outputs": [],
   "source": [
    "# 비트연산자( | )를 이용한 Chain\n",
    "# chain_task = ( subtask_1 | subtask_2 | subtask_3 | subtask_4 ).apply_async()"
   ]
  },
  {
   "cell_type": "code",
   "execution_count": 68,
   "id": "b3ca5a06",
   "metadata": {},
   "outputs": [
    {
     "name": "stdout",
     "output_type": "stream",
     "text": [
      "\n",
      "# 1. Task ID 확인\n",
      "chain_task is 2da80824-6d40-49c7-8301-b1f53989368b\n"
     ]
    }
   ],
   "source": [
    "print( \"\\n# 1. Task ID 확인\" )\n",
    "print( \"chain_task is {}\".format( chain_task.id ) )"
   ]
  },
  {
   "cell_type": "code",
   "execution_count": 74,
   "id": "327ab8de",
   "metadata": {},
   "outputs": [
    {
     "name": "stdout",
     "output_type": "stream",
     "text": [
      "\n",
      "# 2. Task 상태\n",
      "chain_task is True\n"
     ]
    },
    {
     "data": {
      "text/plain": [
       "'SUCCESS'"
      ]
     },
     "execution_count": 74,
     "metadata": {},
     "output_type": "execute_result"
    }
   ],
   "source": [
    "print( \"\\n# 2. Task 상태\" )\n",
    "print( \"chain_task is {}\".format( chain_task.ready() ) )\n",
    "AsyncResult(id=str(chain_task)).state"
   ]
  },
  {
   "cell_type": "code",
   "execution_count": 73,
   "id": "5a441a4c",
   "metadata": {},
   "outputs": [
    {
     "name": "stdout",
     "output_type": "stream",
     "text": [
      "\n",
      "# 3. 실행결과 확인\n",
      "chain_task is 15\n"
     ]
    },
    {
     "data": {
      "text/plain": [
       "<AsyncResult: 2da80824-6d40-49c7-8301-b1f53989368b>"
      ]
     },
     "execution_count": 73,
     "metadata": {},
     "output_type": "execute_result"
    }
   ],
   "source": [
    "print( \"\\n# 3. 실행결과 확인\" )\n",
    "print( \"chain_task is {}\".format( chain_task.get() ) )"
   ]
  },
  {
   "cell_type": "code",
   "execution_count": 35,
   "id": "9b0fe3a0",
   "metadata": {},
   "outputs": [
    {
     "name": "stdout",
     "output_type": "stream",
     "text": [
      "\n",
      "# 4. Task 상태\n",
      "chain_task is True\n"
     ]
    }
   ],
   "source": [
    "print( \"\\n# 4. Task 상태\" )\n",
    "print( \"chain_task is {}\".format( chain_task.ready() ) )"
   ]
  },
  {
   "cell_type": "code",
   "execution_count": null,
   "id": "960d65ff",
   "metadata": {},
   "outputs": [],
   "source": []
  },
  {
   "cell_type": "code",
   "execution_count": 36,
   "id": "fe3507dc",
   "metadata": {},
   "outputs": [],
   "source": [
    "# use link "
   ]
  },
  {
   "cell_type": "code",
   "execution_count": 47,
   "id": "30d60710",
   "metadata": {},
   "outputs": [],
   "source": [
    "subtask_1 = add.s( 3 )\n",
    "subtask_2 = add.s( 4 )\n",
    "subtask_3 = add.s( 5 )"
   ]
  },
  {
   "cell_type": "code",
   "execution_count": 48,
   "id": "0b9c468e",
   "metadata": {},
   "outputs": [],
   "source": [
    "links = ( subtask_1 | subtask_2 | subtask_3 )"
   ]
  },
  {
   "cell_type": "code",
   "execution_count": 49,
   "id": "7bca2f93",
   "metadata": {},
   "outputs": [],
   "source": [
    "link_task = add.apply_async( args=[ 1, 2 ], link=links )"
   ]
  },
  {
   "cell_type": "code",
   "execution_count": 50,
   "id": "4285797f",
   "metadata": {},
   "outputs": [
    {
     "name": "stdout",
     "output_type": "stream",
     "text": [
      "\n",
      "# 1. Task ID 확인\n",
      "link_task is c66680fc-47e5-4ccf-bac2-a2979bfc6d9d\n"
     ]
    }
   ],
   "source": [
    "print( \"\\n# 1. Task ID 확인\" )\n",
    "print( \"link_task is {}\".format( link_task.id ) )"
   ]
  },
  {
   "cell_type": "code",
   "execution_count": 51,
   "id": "3d67c992",
   "metadata": {},
   "outputs": [
    {
     "name": "stdout",
     "output_type": "stream",
     "text": [
      "\n",
      "# 2. Task 상태\n",
      "link_task is False\n"
     ]
    }
   ],
   "source": [
    "print( \"\\n# 2. Task 상태\" )\n",
    "print( \"link_task is {}\".format( link_task.ready() ) )"
   ]
  },
  {
   "cell_type": "code",
   "execution_count": 52,
   "id": "d852ed2b",
   "metadata": {},
   "outputs": [
    {
     "name": "stdout",
     "output_type": "stream",
     "text": [
      "\n",
      "# 3. 실행결과 확인\n",
      "link_task is 3\n"
     ]
    }
   ],
   "source": [
    "print( \"\\n# 3. 실행결과 확인\" )\n",
    "print( \"link_task is {}\".format( link_task.get() ) )"
   ]
  },
  {
   "cell_type": "code",
   "execution_count": 53,
   "id": "eba664fb",
   "metadata": {},
   "outputs": [
    {
     "name": "stdout",
     "output_type": "stream",
     "text": [
      "\n",
      "# 4. Task 상태\n",
      "link_task is True\n"
     ]
    }
   ],
   "source": [
    "print( \"\\n# 4. Task 상태\" )\n",
    "print( \"link_task is {}\".format( link_task.ready() ) )"
   ]
  },
  {
   "cell_type": "code",
   "execution_count": null,
   "id": "4caecd91",
   "metadata": {},
   "outputs": [],
   "source": []
  },
  {
   "cell_type": "code",
   "execution_count": 54,
   "id": "07985e2b",
   "metadata": {},
   "outputs": [],
   "source": [
    "# 튜플로 연결하는 경우 (결과가 다르게 나옴)"
   ]
  },
  {
   "cell_type": "code",
   "execution_count": 55,
   "id": "4d2ed247",
   "metadata": {},
   "outputs": [],
   "source": [
    "subtask_1 = add.s( 3 )\n",
    "subtask_2 = add.s( 4 )\n",
    "subtask_3 = add.s( 5 )"
   ]
  },
  {
   "cell_type": "code",
   "execution_count": 56,
   "id": "5edfc6f4",
   "metadata": {},
   "outputs": [],
   "source": [
    "links = ( subtask_1 , subtask_2 , subtask_3 )"
   ]
  },
  {
   "cell_type": "code",
   "execution_count": 57,
   "id": "ba9e4afa",
   "metadata": {},
   "outputs": [],
   "source": [
    "link_task = add.apply_async( args=[ 1, 2 ], link=links )"
   ]
  },
  {
   "cell_type": "code",
   "execution_count": 58,
   "id": "4395737c",
   "metadata": {},
   "outputs": [
    {
     "name": "stdout",
     "output_type": "stream",
     "text": [
      "\n",
      "# 1. Task ID 확인\n",
      "link_task is 93033e5d-fc37-4a5c-b8ec-b56c960af4e1\n"
     ]
    }
   ],
   "source": [
    "print( \"\\n# 1. Task ID 확인\" )\n",
    "print( \"link_task is {}\".format( link_task.id ) )"
   ]
  },
  {
   "cell_type": "code",
   "execution_count": 59,
   "id": "7e4f4523",
   "metadata": {},
   "outputs": [
    {
     "name": "stdout",
     "output_type": "stream",
     "text": [
      "\n",
      "# 2. Task 상태\n",
      "link_task is False\n"
     ]
    }
   ],
   "source": [
    "print( \"\\n# 2. Task 상태\" )\n",
    "print( \"link_task is {}\".format( link_task.ready() ) )"
   ]
  },
  {
   "cell_type": "code",
   "execution_count": 60,
   "id": "54031f44",
   "metadata": {},
   "outputs": [
    {
     "name": "stdout",
     "output_type": "stream",
     "text": [
      "\n",
      "# 3. 실행결과 확인\n",
      "link_task is 3\n"
     ]
    }
   ],
   "source": [
    "print( \"\\n# 3. 실행결과 확인\" )\n",
    "print( \"link_task is {}\".format( link_task.get() ) )"
   ]
  },
  {
   "cell_type": "code",
   "execution_count": 61,
   "id": "ae7f9e2f",
   "metadata": {},
   "outputs": [
    {
     "name": "stdout",
     "output_type": "stream",
     "text": [
      "\n",
      "# 4. Task 상태\n",
      "link_task is True\n"
     ]
    }
   ],
   "source": [
    "print( \"\\n# 4. Task 상태\" )\n",
    "print( \"link_task is {}\".format( link_task.ready() ) )"
   ]
  },
  {
   "cell_type": "code",
   "execution_count": null,
   "id": "88a1a839",
   "metadata": {},
   "outputs": [],
   "source": []
  }
 ],
 "metadata": {
  "kernelspec": {
   "display_name": "Django Shell-Plus",
   "language": "python",
   "name": "django_extensions"
  },
  "language_info": {
   "codemirror_mode": {
    "name": "ipython",
    "version": 3
   },
   "file_extension": ".py",
   "mimetype": "text/x-python",
   "name": "python",
   "nbconvert_exporter": "python",
   "pygments_lexer": "ipython3",
   "version": "3.11.2"
  }
 },
 "nbformat": 4,
 "nbformat_minor": 5
}

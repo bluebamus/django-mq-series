{
 "cells": [
  {
   "cell_type": "code",
   "execution_count": 1,
   "id": "8ab03912",
   "metadata": {},
   "outputs": [],
   "source": [
    "import os"
   ]
  },
  {
   "cell_type": "code",
   "execution_count": 2,
   "id": "16fb4e40",
   "metadata": {},
   "outputs": [],
   "source": [
    "os.environ[\"DJANGO_ALLOW_ASYNC_UNSAFE\"] = \"true\""
   ]
  },
  {
   "cell_type": "code",
   "execution_count": 3,
   "id": "b3106cc6",
   "metadata": {},
   "outputs": [],
   "source": [
    "# part 4"
   ]
  },
  {
   "cell_type": "code",
   "execution_count": 4,
   "id": "c947f2be",
   "metadata": {},
   "outputs": [],
   "source": [
    "# reference : https://heodolf.tistory.com/66"
   ]
  },
  {
   "cell_type": "code",
   "execution_count": 12,
   "id": "0f78427e",
   "metadata": {},
   "outputs": [],
   "source": [
    "# reference : https://docs.celeryq.dev/en/latest/userguide/canvas.html#groups"
   ]
  },
  {
   "cell_type": "code",
   "execution_count": 24,
   "id": "61405992",
   "metadata": {},
   "outputs": [],
   "source": [
    "from task1.tasks.add import add, callback\n",
    "from celery import group"
   ]
  },
  {
   "cell_type": "code",
   "execution_count": 6,
   "id": "4fe13564",
   "metadata": {},
   "outputs": [],
   "source": [
    "tasks = [ add.s( i, i+1 ) for i in range(1, 5) ]"
   ]
  },
  {
   "cell_type": "code",
   "execution_count": 7,
   "id": "f5bed4ea",
   "metadata": {},
   "outputs": [],
   "source": [
    "grouping = group( tasks )\n",
    "group_task = grouping() # 또는 grouping.apply_async()"
   ]
  },
  {
   "cell_type": "code",
   "execution_count": 8,
   "id": "8d1e8576",
   "metadata": {},
   "outputs": [
    {
     "name": "stdout",
     "output_type": "stream",
     "text": [
      "\n",
      "# 1. Task 확인\n",
      "tasks = [task1.tasks.add.add(1, 2), task1.tasks.add.add(2, 3), task1.tasks.add.add(3, 4), task1.tasks.add.add(4, 5)]\n",
      "group_task.id = e7312c79-6e67-47c5-923f-6f7cb6695284\n",
      "group_task.type = <class 'celery.result.GroupResult'>\n"
     ]
    }
   ],
   "source": [
    "print( \"\\n# 1. Task 확인\" )\n",
    "print( \"tasks = {}\".format( tasks ) )\n",
    "print( \"group_task.id = {}\".format( group_task.id ) )\n",
    "print( \"group_task.type = {}\".format( type(group_task) ) )"
   ]
  },
  {
   "cell_type": "code",
   "execution_count": 9,
   "id": "3e187a49",
   "metadata": {},
   "outputs": [
    {
     "name": "stdout",
     "output_type": "stream",
     "text": [
      "\n",
      "# 2. Task 상태 확인\n",
      "Subtask가 모두 준비되었는가? False\n"
     ]
    }
   ],
   "source": [
    "print( \"\\n# 2. Task 상태 확인\" )\n",
    "print( \"Subtask가 모두 준비되었는가? {}\".format( group_task.ready() ) )"
   ]
  },
  {
   "cell_type": "code",
   "execution_count": 10,
   "id": "3de8d610",
   "metadata": {},
   "outputs": [
    {
     "name": "stdout",
     "output_type": "stream",
     "text": [
      "\n",
      "# 3. 실행결과 확인\n",
      "몇건이 완료 되었는가? 0\n",
      "완료된 결과를 반환. [3, 5, 7, 9]\n",
      "호출한 순서대로 반환. [3, 5, 7, 9]\n",
      "몇건이 완료 되었는가? 4\n"
     ]
    }
   ],
   "source": [
    "print( \"\\n# 3. 실행결과 확인\" )\n",
    "print( \"몇건이 완료 되었는가? {}\".format( group_task.completed_count() ) )\n",
    "print( \"완료된 결과를 반환. {}\".format( group_task.get() ) )\n",
    "print( \"호출한 순서대로 반환. {}\".format( group_task.join() ) )\n",
    "print( \"몇건이 완료 되었는가? {}\".format( group_task.completed_count() ) )"
   ]
  },
  {
   "cell_type": "code",
   "execution_count": 11,
   "id": "47f3261a",
   "metadata": {},
   "outputs": [
    {
     "name": "stdout",
     "output_type": "stream",
     "text": [
      "\n",
      "# 4. Task 상태 확인\n",
      "Subtask가 모두 준비되었는가? True\n",
      "모두 성공했는가? True\n",
      "실패가 있는가? False\n"
     ]
    }
   ],
   "source": [
    "print( \"\\n# 4. Task 상태 확인\" )\n",
    "print( \"Subtask가 모두 준비되었는가? {}\".format( group_task.ready() ) )\n",
    "print( \"모두 성공했는가? {}\".format( group_task.successful() ) )\n",
    "print( \"실패가 있는가? {}\".format( group_task.failed() ) )"
   ]
  },
  {
   "cell_type": "code",
   "execution_count": null,
   "id": "73d400b0",
   "metadata": {},
   "outputs": [],
   "source": []
  },
  {
   "cell_type": "code",
   "execution_count": 13,
   "id": "d29021ee",
   "metadata": {},
   "outputs": [],
   "source": [
    "# Chord"
   ]
  },
  {
   "cell_type": "code",
   "execution_count": 14,
   "id": "84462826",
   "metadata": {},
   "outputs": [],
   "source": [
    "# reference : https://docs.celeryq.dev/en/latest/userguide/canvas.html#chords"
   ]
  },
  {
   "cell_type": "code",
   "execution_count": 22,
   "id": "21da526f",
   "metadata": {},
   "outputs": [],
   "source": [
    "from celery import chord"
   ]
  },
  {
   "cell_type": "code",
   "execution_count": 54,
   "id": "5eb5d074",
   "metadata": {},
   "outputs": [],
   "source": [
    "tasks = [ add.s( i, i+1 ) for i in range(1, 5) ]"
   ]
  },
  {
   "cell_type": "code",
   "execution_count": 55,
   "id": "2373488c",
   "metadata": {},
   "outputs": [],
   "source": [
    "chording = chord( tasks )\n",
    "chord_task = chording( callback.s() )"
   ]
  },
  {
   "cell_type": "code",
   "execution_count": 56,
   "id": "26395964",
   "metadata": {},
   "outputs": [
    {
     "name": "stdout",
     "output_type": "stream",
     "text": [
      "\n",
      "# 1. Task 확인\n",
      "tasks = [task1.tasks.add.add(1, 2), task1.tasks.add.add(2, 3), task1.tasks.add.add(3, 4), task1.tasks.add.add(4, 5)]\n",
      "chord_task.id = 69b84ea4-055e-4167-bb27-1e055584afcc\n",
      "chord_task.type = <class 'celery.result.AsyncResult'>\n"
     ]
    }
   ],
   "source": [
    "print( \"\\n# 1. Task 확인\" )\n",
    "print( \"tasks = {}\".format( tasks ) )\n",
    "print( \"chord_task.id = {}\".format( chord_task.id ) )\n",
    "print( \"chord_task.type = {}\".format( type(chord_task) ) )"
   ]
  },
  {
   "cell_type": "code",
   "execution_count": 57,
   "id": "b213e32b",
   "metadata": {},
   "outputs": [
    {
     "name": "stdout",
     "output_type": "stream",
     "text": [
      "\n",
      "# 2. Task 상태 확인\n",
      "Subtask가 모두 준비되었는가? False\n"
     ]
    }
   ],
   "source": [
    "print( \"\\n# 2. Task 상태 확인\" )\n",
    "print( \"Subtask가 모두 준비되었는가? {}\".format( chord_task.ready() ) )"
   ]
  },
  {
   "cell_type": "code",
   "execution_count": 58,
   "id": "07defd40",
   "metadata": {},
   "outputs": [
    {
     "name": "stdout",
     "output_type": "stream",
     "text": [
      "\n",
      "# 3. 실행결과 확인\n",
      "완료된 결과를 반환. 24\n"
     ]
    }
   ],
   "source": [
    "print( \"\\n# 3. 실행결과 확인\" )\n",
    "print( \"완료된 결과를 반환. {}\".format( chord_task.get() ) )"
   ]
  },
  {
   "cell_type": "code",
   "execution_count": 59,
   "id": "fc05ffae",
   "metadata": {},
   "outputs": [
    {
     "name": "stdout",
     "output_type": "stream",
     "text": [
      "\n",
      "# 4. Task 상태 확인\n",
      "Subtask가 모두 준비되었는가? True\n"
     ]
    }
   ],
   "source": [
    "print( \"\\n# 4. Task 상태 확인\" )\n",
    "print( \"Subtask가 모두 준비되었는가? {}\".format( chord_task.ready() ) )"
   ]
  },
  {
   "cell_type": "code",
   "execution_count": null,
   "id": "152fac0c",
   "metadata": {},
   "outputs": [],
   "source": []
  },
  {
   "cell_type": "code",
   "execution_count": null,
   "id": "6b1cf53c",
   "metadata": {},
   "outputs": [],
   "source": []
  },
  {
   "cell_type": "code",
   "execution_count": null,
   "id": "276fd8c6",
   "metadata": {},
   "outputs": [],
   "source": []
  }
 ],
 "metadata": {
  "kernelspec": {
   "display_name": "Django Shell-Plus",
   "language": "python",
   "name": "django_extensions"
  },
  "language_info": {
   "codemirror_mode": {
    "name": "ipython",
    "version": 3
   },
   "file_extension": ".py",
   "mimetype": "text/x-python",
   "name": "python",
   "nbconvert_exporter": "python",
   "pygments_lexer": "ipython3",
   "version": "3.11.2"
  }
 },
 "nbformat": 4,
 "nbformat_minor": 5
}
